{
 "cells": [
  {
   "cell_type": "markdown",
   "id": "f749d32c",
   "metadata": {},
   "source": [
    "# Segmented Housing Price Predictions\n",
    "## Goals:\n",
    "   - Price Testing houses as accurately as possible\n",
    "   - segment newly predicted prices into 4 seperate housing thresholds/segments\n",
    "   - Explain Process & Findings"
   ]
  },
  {
   "cell_type": "markdown",
   "id": "dcd80167",
   "metadata": {},
   "source": [
    "## Link to Original Datasets & Prompt:\n",
    "https://www.kaggle.com/datasets/gauravduttakiit/the-great-real-estate-data-challenge"
   ]
  },
  {
   "cell_type": "code",
   "execution_count": 1,
   "id": "50e4fd01",
   "metadata": {},
   "outputs": [],
   "source": [
    "# These are all the modules we will be using to optimize and view our XGBoosted Models\n",
    "import pandas as pd # For DataFrame Manipulation\n",
    "import numpy as np # For mathematical operations in Python\n",
    "from sklearn.preprocessing import OneHotEncoder #Dummies for Categorical Variables\n",
    "from sklearn.metrics import balanced_accuracy_score, roc_auc_score, make_scorer #For XGBoost to optimze boosting paramters based off AUC Score\n",
    "from sklearn.model_selection import GridSearchCV# To optimize XGBoost HyperParameters\n",
    "from sklearn.model_selection import train_test_split #To split our data in fitting models\n",
    "from sklearn.decomposition import PCA # Finding Top components in prediction\n",
    "from sklearn import preprocessing # scaling the data for PCA \n",
    "import matplotlib.pyplot as plt # PCA scree plot visualization\n",
    "from sklearn.metrics import average_precision_score, precision_recall_curve\n",
    "import xgboost as xgb #Finally our XGBoost module to be trained with our dataset"
   ]
  },
  {
   "cell_type": "code",
   "execution_count": 2,
   "id": "4bff9623",
   "metadata": {},
   "outputs": [
    {
     "data": {
      "text/html": [
       "<div>\n",
       "<style scoped>\n",
       "    .dataframe tbody tr th:only-of-type {\n",
       "        vertical-align: middle;\n",
       "    }\n",
       "\n",
       "    .dataframe tbody tr th {\n",
       "        vertical-align: top;\n",
       "    }\n",
       "\n",
       "    .dataframe thead th {\n",
       "        text-align: right;\n",
       "    }\n",
       "</style>\n",
       "<table border=\"1\" class=\"dataframe\">\n",
       "  <thead>\n",
       "    <tr style=\"text-align: right;\">\n",
       "      <th></th>\n",
       "      <th>Year</th>\n",
       "      <th>Date</th>\n",
       "      <th>Locality</th>\n",
       "      <th>Address</th>\n",
       "      <th>Estimated Value</th>\n",
       "      <th>Sale Price</th>\n",
       "      <th>Property</th>\n",
       "      <th>Residential</th>\n",
       "      <th>num_rooms</th>\n",
       "      <th>carpet_area</th>\n",
       "      <th>property_tax_rate</th>\n",
       "    </tr>\n",
       "  </thead>\n",
       "  <tbody>\n",
       "    <tr>\n",
       "      <th>0</th>\n",
       "      <td>2009</td>\n",
       "      <td>2009-01-02</td>\n",
       "      <td>Greenwich</td>\n",
       "      <td>40 ETTL LN UT 24</td>\n",
       "      <td>711270.0</td>\n",
       "      <td>975000.0</td>\n",
       "      <td>Condo</td>\n",
       "      <td>Condominium</td>\n",
       "      <td>2</td>\n",
       "      <td>760</td>\n",
       "      <td>1.025953</td>\n",
       "    </tr>\n",
       "    <tr>\n",
       "      <th>1</th>\n",
       "      <td>2009</td>\n",
       "      <td>2009-01-02</td>\n",
       "      <td>East Hampton</td>\n",
       "      <td>18 BAUER RD</td>\n",
       "      <td>119970.0</td>\n",
       "      <td>189900.0</td>\n",
       "      <td>Single Family</td>\n",
       "      <td>Detached House</td>\n",
       "      <td>3</td>\n",
       "      <td>921</td>\n",
       "      <td>1.025953</td>\n",
       "    </tr>\n",
       "    <tr>\n",
       "      <th>2</th>\n",
       "      <td>2009</td>\n",
       "      <td>2009-01-02</td>\n",
       "      <td>Ridgefield</td>\n",
       "      <td>48 HIGH VALLEY RD.</td>\n",
       "      <td>494530.0</td>\n",
       "      <td>825000.0</td>\n",
       "      <td>Single Family</td>\n",
       "      <td>Detached House</td>\n",
       "      <td>3</td>\n",
       "      <td>982</td>\n",
       "      <td>1.025953</td>\n",
       "    </tr>\n",
       "    <tr>\n",
       "      <th>3</th>\n",
       "      <td>2009</td>\n",
       "      <td>2009-01-02</td>\n",
       "      <td>Old Lyme</td>\n",
       "      <td>56 MERIDEN RD</td>\n",
       "      <td>197600.0</td>\n",
       "      <td>450000.0</td>\n",
       "      <td>Single Family</td>\n",
       "      <td>Detached House</td>\n",
       "      <td>3</td>\n",
       "      <td>976</td>\n",
       "      <td>1.025953</td>\n",
       "    </tr>\n",
       "    <tr>\n",
       "      <th>4</th>\n",
       "      <td>2009</td>\n",
       "      <td>2009-01-02</td>\n",
       "      <td>Naugatuck</td>\n",
       "      <td>13 CELENTANO DR</td>\n",
       "      <td>105440.0</td>\n",
       "      <td>200000.0</td>\n",
       "      <td>Single Family</td>\n",
       "      <td>Detached House</td>\n",
       "      <td>3</td>\n",
       "      <td>947</td>\n",
       "      <td>1.025953</td>\n",
       "    </tr>\n",
       "  </tbody>\n",
       "</table>\n",
       "</div>"
      ],
      "text/plain": [
       "   Year        Date      Locality             Address  Estimated Value  \\\n",
       "0  2009  2009-01-02     Greenwich    40 ETTL LN UT 24         711270.0   \n",
       "1  2009  2009-01-02  East Hampton         18 BAUER RD         119970.0   \n",
       "2  2009  2009-01-02    Ridgefield  48 HIGH VALLEY RD.         494530.0   \n",
       "3  2009  2009-01-02      Old Lyme       56 MERIDEN RD         197600.0   \n",
       "4  2009  2009-01-02     Naugatuck     13 CELENTANO DR         105440.0   \n",
       "\n",
       "   Sale Price       Property     Residential  num_rooms  carpet_area  \\\n",
       "0    975000.0          Condo     Condominium          2          760   \n",
       "1    189900.0  Single Family  Detached House          3          921   \n",
       "2    825000.0  Single Family  Detached House          3          982   \n",
       "3    450000.0  Single Family  Detached House          3          976   \n",
       "4    200000.0  Single Family  Detached House          3          947   \n",
       "\n",
       "   property_tax_rate  \n",
       "0           1.025953  \n",
       "1           1.025953  \n",
       "2           1.025953  \n",
       "3           1.025953  \n",
       "4           1.025953  "
      ]
     },
     "execution_count": 2,
     "metadata": {},
     "output_type": "execute_result"
    }
   ],
   "source": [
    "#Initial View Of Our Dataset\n",
    "train_df = pd.read_csv('train.csv')\n",
    "train_df.head()"
   ]
  },
  {
   "cell_type": "code",
   "execution_count": 3,
   "id": "ac58d511",
   "metadata": {},
   "outputs": [
    {
     "data": {
      "text/plain": [
       "Year                   int64\n",
       "Date                  object\n",
       "Locality              object\n",
       "Address               object\n",
       "Estimated Value      float64\n",
       "Sale Price           float64\n",
       "Property              object\n",
       "Residential           object\n",
       "num_rooms              int64\n",
       "carpet_area            int64\n",
       "property_tax_rate    float64\n",
       "dtype: object"
      ]
     },
     "execution_count": 3,
     "metadata": {},
     "output_type": "execute_result"
    }
   ],
   "source": [
    "#prelimanry data cleaning, confirming data is categorized correctly \n",
    "train_df.dtypes"
   ]
  },
  {
   "cell_type": "markdown",
   "id": "5786137c",
   "metadata": {},
   "source": [
    "# PCA Compression:\n",
    "######  - Principal Component Analysis aids in finding the variables that contribute to the most of our data variability in terms of the loading score. By reducing the dimensions of our dataset, we can get a better look at what makes our future machines tick"
   ]
  },
  {
   "cell_type": "code",
   "execution_count": 4,
   "id": "f9dccdc8",
   "metadata": {},
   "outputs": [],
   "source": [
    "# Our PCA visualiation will need an identifable index if we would \n",
    "# like to annotate in the future. The address column looks like a great option\n",
    "adresses = train_df['Address']"
   ]
  },
  {
   "cell_type": "code",
   "execution_count": 5,
   "id": "b16b093d",
   "metadata": {},
   "outputs": [],
   "source": [
    "#PCA compression does not work well wtith categorical variabales, so let's create a new dataframe\n",
    "pca_df = train_df.drop(['Sale Price', \"Date\", 'Address'], axis=1)\n",
    "pca_df = pd.get_dummies(pca_df, columns = ['Locality','Property', 'Residential'])"
   ]
  },
  {
   "cell_type": "code",
   "execution_count": 6,
   "id": "3ebe7c84",
   "metadata": {},
   "outputs": [
    {
     "name": "stdout",
     "output_type": "stream",
     "text": [
      "<class 'pandas.core.frame.DataFrame'>\n",
      "RangeIndex: 553952 entries, 0 to 553951\n",
      "Columns: 186 entries, Year to Residential_Triplex\n",
      "dtypes: float64(2), int64(3), uint8(181)\n",
      "memory usage: 116.8 MB\n"
     ]
    }
   ],
   "source": [
    "# We have 553,952 samples now... so that's fun\n",
    "#the dummies gave us 186 columns to work from \n",
    "pca_df.info()"
   ]
  },
  {
   "cell_type": "code",
   "execution_count": 7,
   "id": "2f2266b4",
   "metadata": {},
   "outputs": [],
   "source": [
    "#Next we need to standardize our remaining continuous variables to all carry an even weigt in PCA's dimension reduction\n",
    "pca_scaled_df = preprocessing.scale(pca_df)"
   ]
  },
  {
   "cell_type": "code",
   "execution_count": 8,
   "id": "3ad0ad51",
   "metadata": {},
   "outputs": [],
   "source": [
    "# We are ready to Instantiate & fit our PCA model!\n",
    "pca = PCA()\n",
    "pca.fit(pca_scaled_df)\n",
    "pca_data = pca.transform(pca_scaled_df)"
   ]
  },
  {
   "cell_type": "code",
   "execution_count": 9,
   "id": "53fdf1d6",
   "metadata": {},
   "outputs": [],
   "source": [
    "#Scree plots are a great way to visualize PC influence, let's start by formatting the data for vizzing\n",
    "per_var = np.round(pca.explained_variance_ratio_ *100, decimals=1)\n",
    "labels = ['PC' + str(x) for x in range(1, len(per_var) + 1)]"
   ]
  },
  {
   "cell_type": "code",
   "execution_count": 10,
   "id": "8c4ad9db",
   "metadata": {},
   "outputs": [
    {
     "data": {
      "image/png": "[encoded data removed]",
      "text/plain": [
       "<Figure size 432x288 with 1 Axes>"
      ]
     },
     "metadata": {
      "needs_background": "light"
     },
     "output_type": "display_data"
    },
    {
     "data": {
      "text/plain": [
       "<Figure size 432x288 with 0 Axes>"
      ]
     },
     "metadata": {},
     "output_type": "display_data"
    }
   ],
   "source": [
    "# Now let's build the scree plot to see how each Principal Component did\n",
    "plt.bar(x=range(1, 11), height=per_var[:10], tick_label=labels[:10])\n",
    "plt.ylabel(\"Percent of Explained Variance\")\n",
    "plt.xlabel(\"Top 10 Principal Components\")\n",
    "plt.title(\"Housing Variable Scree Plot\")\n",
    "plt.show()\n",
    "plt.clf()"
   ]
  },
  {
   "cell_type": "code",
   "execution_count": 11,
   "id": "94fba0c5",
   "metadata": {},
   "outputs": [
    {
     "data": {
      "text/html": [
       "<div>\n",
       "<style scoped>\n",
       "    .dataframe tbody tr th:only-of-type {\n",
       "        vertical-align: middle;\n",
       "    }\n",
       "\n",
       "    .dataframe tbody tr th {\n",
       "        vertical-align: top;\n",
       "    }\n",
       "\n",
       "    .dataframe thead th {\n",
       "        text-align: right;\n",
       "    }\n",
       "</style>\n",
       "<table border=\"1\" class=\"dataframe\">\n",
       "  <thead>\n",
       "    <tr style=\"text-align: right;\">\n",
       "      <th></th>\n",
       "      <th>PC1</th>\n",
       "      <th>PC2</th>\n",
       "      <th>PC3</th>\n",
       "      <th>PC4</th>\n",
       "      <th>PC5</th>\n",
       "      <th>PC6</th>\n",
       "      <th>PC7</th>\n",
       "      <th>PC8</th>\n",
       "      <th>PC9</th>\n",
       "      <th>PC10</th>\n",
       "      <th>...</th>\n",
       "      <th>PC177</th>\n",
       "      <th>PC178</th>\n",
       "      <th>PC179</th>\n",
       "      <th>PC180</th>\n",
       "      <th>PC181</th>\n",
       "      <th>PC182</th>\n",
       "      <th>PC183</th>\n",
       "      <th>PC184</th>\n",
       "      <th>PC185</th>\n",
       "      <th>PC186</th>\n",
       "    </tr>\n",
       "  </thead>\n",
       "  <tbody>\n",
       "    <tr>\n",
       "      <th>40 ETTL LN UT 24</th>\n",
       "      <td>-3.536869</td>\n",
       "      <td>-1.725331</td>\n",
       "      <td>-0.555830</td>\n",
       "      <td>0.198180</td>\n",
       "      <td>-0.869194</td>\n",
       "      <td>4.280020</td>\n",
       "      <td>1.239080</td>\n",
       "      <td>0.633832</td>\n",
       "      <td>-0.067736</td>\n",
       "      <td>0.255210</td>\n",
       "      <td>...</td>\n",
       "      <td>0.304207</td>\n",
       "      <td>0.234745</td>\n",
       "      <td>-0.004080</td>\n",
       "      <td>-0.029131</td>\n",
       "      <td>-0.008211</td>\n",
       "      <td>-0.008599</td>\n",
       "      <td>3.269297e-16</td>\n",
       "      <td>3.791476e-15</td>\n",
       "      <td>3.258351e-15</td>\n",
       "      <td>-1.133421e-15</td>\n",
       "    </tr>\n",
       "    <tr>\n",
       "      <th>18 BAUER RD</th>\n",
       "      <td>0.479423</td>\n",
       "      <td>1.225562</td>\n",
       "      <td>-0.025819</td>\n",
       "      <td>-0.031584</td>\n",
       "      <td>-1.320184</td>\n",
       "      <td>-0.385341</td>\n",
       "      <td>2.053480</td>\n",
       "      <td>-0.176390</td>\n",
       "      <td>0.612663</td>\n",
       "      <td>-0.004033</td>\n",
       "      <td>...</td>\n",
       "      <td>1.008865</td>\n",
       "      <td>-0.274051</td>\n",
       "      <td>-0.016963</td>\n",
       "      <td>0.055242</td>\n",
       "      <td>0.006159</td>\n",
       "      <td>0.007765</td>\n",
       "      <td>-3.003739e-15</td>\n",
       "      <td>2.820031e-15</td>\n",
       "      <td>-7.106958e-16</td>\n",
       "      <td>-1.140360e-15</td>\n",
       "    </tr>\n",
       "    <tr>\n",
       "      <th>48 HIGH VALLEY RD.</th>\n",
       "      <td>0.557295</td>\n",
       "      <td>1.205034</td>\n",
       "      <td>-0.116579</td>\n",
       "      <td>-0.021165</td>\n",
       "      <td>-0.471944</td>\n",
       "      <td>0.896944</td>\n",
       "      <td>0.746122</td>\n",
       "      <td>0.207691</td>\n",
       "      <td>-0.561225</td>\n",
       "      <td>-0.080377</td>\n",
       "      <td>...</td>\n",
       "      <td>0.392680</td>\n",
       "      <td>-0.064669</td>\n",
       "      <td>0.016981</td>\n",
       "      <td>0.019666</td>\n",
       "      <td>0.000310</td>\n",
       "      <td>0.001443</td>\n",
       "      <td>-2.864961e-15</td>\n",
       "      <td>1.348985e-15</td>\n",
       "      <td>-1.848674e-15</td>\n",
       "      <td>-2.306094e-15</td>\n",
       "    </tr>\n",
       "    <tr>\n",
       "      <th>56 MERIDEN RD</th>\n",
       "      <td>0.682292</td>\n",
       "      <td>1.308280</td>\n",
       "      <td>-0.069310</td>\n",
       "      <td>-0.032911</td>\n",
       "      <td>-1.057458</td>\n",
       "      <td>-0.003136</td>\n",
       "      <td>0.782980</td>\n",
       "      <td>0.481668</td>\n",
       "      <td>-0.343299</td>\n",
       "      <td>-0.107563</td>\n",
       "      <td>...</td>\n",
       "      <td>0.372904</td>\n",
       "      <td>-0.088428</td>\n",
       "      <td>0.009150</td>\n",
       "      <td>0.020530</td>\n",
       "      <td>0.001997</td>\n",
       "      <td>0.002535</td>\n",
       "      <td>-3.447829e-15</td>\n",
       "      <td>8.216295e-16</td>\n",
       "      <td>-1.626630e-15</td>\n",
       "      <td>-1.917516e-15</td>\n",
       "    </tr>\n",
       "    <tr>\n",
       "      <th>13 CELENTANO DR</th>\n",
       "      <td>0.536715</td>\n",
       "      <td>1.038341</td>\n",
       "      <td>0.059883</td>\n",
       "      <td>-0.030405</td>\n",
       "      <td>-0.764352</td>\n",
       "      <td>-0.467326</td>\n",
       "      <td>0.842256</td>\n",
       "      <td>0.534447</td>\n",
       "      <td>-0.222957</td>\n",
       "      <td>-0.104426</td>\n",
       "      <td>...</td>\n",
       "      <td>0.531064</td>\n",
       "      <td>-0.188882</td>\n",
       "      <td>-0.007028</td>\n",
       "      <td>0.034086</td>\n",
       "      <td>0.003766</td>\n",
       "      <td>0.008921</td>\n",
       "      <td>-1.199627e-15</td>\n",
       "      <td>1.571030e-15</td>\n",
       "      <td>-9.882516e-16</td>\n",
       "      <td>-1.084849e-15</td>\n",
       "    </tr>\n",
       "  </tbody>\n",
       "</table>\n",
       "<p>5 rows × 186 columns</p>\n",
       "</div>"
      ],
      "text/plain": [
       "                         PC1       PC2       PC3       PC4       PC5  \\\n",
       "40 ETTL LN UT 24   -3.536869 -1.725331 -0.555830  0.198180 -0.869194   \n",
       "18 BAUER RD         0.479423  1.225562 -0.025819 -0.031584 -1.320184   \n",
       "48 HIGH VALLEY RD.  0.557295  1.205034 -0.116579 -0.021165 -0.471944   \n",
       "56 MERIDEN RD       0.682292  1.308280 -0.069310 -0.032911 -1.057458   \n",
       "13 CELENTANO DR     0.536715  1.038341  0.059883 -0.030405 -0.764352   \n",
       "\n",
       "                         PC6       PC7       PC8       PC9      PC10  ...  \\\n",
       "40 ETTL LN UT 24    4.280020  1.239080  0.633832 -0.067736  0.255210  ...   \n",
       "18 BAUER RD        -0.385341  2.053480 -0.176390  0.612663 -0.004033  ...   \n",
       "48 HIGH VALLEY RD.  0.896944  0.746122  0.207691 -0.561225 -0.080377  ...   \n",
       "56 MERIDEN RD      -0.003136  0.782980  0.481668 -0.343299 -0.107563  ...   \n",
       "13 CELENTANO DR    -0.467326  0.842256  0.534447 -0.222957 -0.104426  ...   \n",
       "\n",
       "                       PC177     PC178     PC179     PC180     PC181  \\\n",
       "40 ETTL LN UT 24    0.304207  0.234745 -0.004080 -0.029131 -0.008211   \n",
       "18 BAUER RD         1.008865 -0.274051 -0.016963  0.055242  0.006159   \n",
       "48 HIGH VALLEY RD.  0.392680 -0.064669  0.016981  0.019666  0.000310   \n",
       "56 MERIDEN RD       0.372904 -0.088428  0.009150  0.020530  0.001997   \n",
       "13 CELENTANO DR     0.531064 -0.188882 -0.007028  0.034086  0.003766   \n",
       "\n",
       "                       PC182         PC183         PC184         PC185  \\\n",
       "40 ETTL LN UT 24   -0.008599  3.269297e-16  3.791476e-15  3.258351e-15   \n",
       "18 BAUER RD         0.007765 -3.003739e-15  2.820031e-15 -7.106958e-16   \n",
       "48 HIGH VALLEY RD.  0.001443 -2.864961e-15  1.348985e-15 -1.848674e-15   \n",
       "56 MERIDEN RD       0.002535 -3.447829e-15  8.216295e-16 -1.626630e-15   \n",
       "13 CELENTANO DR     0.008921 -1.199627e-15  1.571030e-15 -9.882516e-16   \n",
       "\n",
       "                           PC186  \n",
       "40 ETTL LN UT 24   -1.133421e-15  \n",
       "18 BAUER RD        -1.140360e-15  \n",
       "48 HIGH VALLEY RD. -2.306094e-15  \n",
       "56 MERIDEN RD      -1.917516e-15  \n",
       "13 CELENTANO DR    -1.084849e-15  \n",
       "\n",
       "[5 rows x 186 columns]"
      ]
     },
     "execution_count": 11,
     "metadata": {},
     "output_type": "execute_result"
    }
   ],
   "source": [
    "#Let's build a visualization of how our PCA model grouped the sample points\n",
    "pca_viz = pd.DataFrame(pca_data, index= train_df['Address'].values, columns=labels)\n",
    "pca_viz.head()"
   ]
  },
  {
   "cell_type": "code",
   "execution_count": 12,
   "id": "b9356a0b",
   "metadata": {},
   "outputs": [
    {
     "data": {
      "image/png": "[encoded data removed]",
      "text/plain": [
       "<Figure size 432x288 with 1 Axes>"
      ]
     },
     "metadata": {
      "needs_background": "light"
     },
     "output_type": "display_data"
    },
    {
     "data": {
      "text/plain": [
       "<Figure size 432x288 with 0 Axes>"
      ]
     },
     "metadata": {},
     "output_type": "display_data"
    }
   ],
   "source": [
    "plt.scatter(pca_viz.PC1, pca_viz.PC2)\n",
    "plt.title(\"PCA Graph\")\n",
    "plt.xlabel('PC1-{0}%'.format(per_var[0]))\n",
    "plt.ylabel('PC2-{0}%'.format(per_var[1]))\n",
    "plt.show()\n",
    "plt.clf()"
   ]
  },
  {
   "cell_type": "code",
   "execution_count": 13,
   "id": "3d24e749",
   "metadata": {},
   "outputs": [
    {
     "name": "stdout",
     "output_type": "stream",
     "text": [
      "Variable importance ranked 1-10: num_rooms                     0.444885\n",
      "carpet_area                   0.428199\n",
      "Residential_Condominium       0.409572\n",
      "Property_Condo                0.405183\n",
      "Residential_Detached House    0.224717\n",
      "Residential_Triplex           0.220700\n",
      "Property_Three Family         0.218968\n",
      "Property_Single Family        0.218532\n",
      "Residential_Fourplex          0.151676\n",
      "Property_Four Family          0.150538\n",
      "dtype: float64\n"
     ]
    }
   ],
   "source": [
    "#Lastly, we can see the influence each variable has in variance change by ordering our loading scores lowest to high\n",
    "loading_scores = pd.Series(pca.components_[0], index= pca_df.columns)\n",
    "sorted_loading_scores = loading_scores.abs().sort_values(ascending=False)\n",
    "print(f'Variable importance ranked 1-10:', sorted_loading_scores[:10])"
   ]
  },
  {
   "cell_type": "markdown",
   "id": "4566f6d0",
   "metadata": {},
   "source": [
    "## Yay! We finished our PCA compression!\n",
    "##### Obviously, the size of the home will factor in most of the varaiability (Seen Via the loading scores of carpet_area & num_rooms)\n",
    "##### What's more interesting is the type of homes that factor in the most varaiability \n",
    "- Condos\n",
    "- Detatched House\n",
    "- Triplex\n",
    "##### You're going to see these types of residence accounting for high profits in the real world, so our data seems to be refelecting pretty well"
   ]
  },
  {
   "cell_type": "markdown",
   "id": "481db9a9",
   "metadata": {},
   "source": [
    "# XGBoosting\n",
    "##### - Extreme Gradient Boosting creates decision trees into a Random Forest with greedy algorithims to weigh it's variables when deciding how to classify/predict inputs. The PCA Compression above visualizes how the model should handle it's voting system when handling data prediction\n",
    "\n",
    "##### - After Correctly modifying our data, we can begin to fit our XGB model and measure it's predictions"
   ]
  },
  {
   "cell_type": "code",
   "execution_count": 14,
   "id": "c39ed72a",
   "metadata": {},
   "outputs": [],
   "source": [
    "#Split our training data up so that we can begin fitting our model\n",
    "X = train_df.drop(['Sale Price', 'Address', \"Date\"], axis=1).copy()\n",
    "y = train_df['Sale Price'].copy()"
   ]
  },
  {
   "cell_type": "code",
   "execution_count": 15,
   "id": "66d64f05",
   "metadata": {},
   "outputs": [],
   "source": [
    "# Convert object variables to categorical type so that it can fit in DMatrix\n",
    "X[\"Locality\"]=X['Locality'].astype('category')\n",
    "X[\"Property\"]=X['Property'].astype('category')\n",
    "X[\"Residential\"]=X['Residential'].astype('category')"
   ]
  },
  {
   "cell_type": "code",
   "execution_count": 16,
   "id": "d47fa9ba",
   "metadata": {},
   "outputs": [
    {
     "data": {
      "text/plain": [
       "Year                    int64\n",
       "Locality             category\n",
       "Estimated Value       float64\n",
       "Property             category\n",
       "Residential          category\n",
       "num_rooms               int64\n",
       "carpet_area             int64\n",
       "property_tax_rate     float64\n",
       "dtype: object"
      ]
     },
     "execution_count": 16,
     "metadata": {},
     "output_type": "execute_result"
    }
   ],
   "source": [
    "#Ensure our data types were changed\n",
    "X.dtypes"
   ]
  },
  {
   "cell_type": "code",
   "execution_count": 17,
   "id": "89cb5469",
   "metadata": {},
   "outputs": [],
   "source": [
    "#initiate our Dmatrix\n",
    "dtrain = xgb.DMatrix(X, label=y, enable_categorical=True)"
   ]
  },
  {
   "cell_type": "code",
   "execution_count": 18,
   "id": "52108372",
   "metadata": {},
   "outputs": [],
   "source": [
    "#train our XGBoost as a linear regression model to estimate house prices(continuous)\n",
    "params = {'objective': 'reg:squarederror', 'eval_metric' : 'aucpr' }\n",
    "lnr_xgb = xgb.train(params, dtrain)"
   ]
  },
  {
   "cell_type": "code",
   "execution_count": 19,
   "id": "31ae8bb8",
   "metadata": {},
   "outputs": [
    {
     "data": {
      "text/plain": [
       "array([974451.56, 202426.11, 777268.  , ..., 302950.25, 302950.25,\n",
       "       509045.94], dtype=float32)"
      ]
     },
     "execution_count": 19,
     "metadata": {},
     "output_type": "execute_result"
    }
   ],
   "source": [
    "#with the same Dmatrix, we can predict the outcomes for our training set\n",
    "y_pred = lnr_xgb.predict(dtrain)\n",
    "y_pred"
   ]
  },
  {
   "cell_type": "code",
   "execution_count": 20,
   "id": "babded86",
   "metadata": {},
   "outputs": [],
   "source": [
    "#We have to change our outputs to binary to assess the accuracy & precision recall Scores\n",
    "#A threshold classfies outputs as 1 & 0 for confusion matrix to predict \n",
    "threshold = np.median(y_pred)\n",
    "# Bins classify outputs as correct or incorrect\n",
    "y_bin = np.where(y_pred >= threshold, 1, 0)\n"
   ]
  },
  {
   "cell_type": "code",
   "execution_count": 21,
   "id": "609f4db2",
   "metadata": {},
   "outputs": [],
   "source": [
    "# Calculate average precision score\n",
    "average_precision = average_precision_score(y_bin, y_pred)\n",
    "\n",
    "# Get precision-recall curve\n",
    "precision, recall, _ = precision_recall_curve(y_bin, y_pred)\n",
    "\n"
   ]
  },
  {
   "cell_type": "code",
   "execution_count": 22,
   "id": "88e305ba",
   "metadata": {},
   "outputs": [
    {
     "data": {
      "image/png": "[encoded data removed]",
      "text/plain": [
       "<Figure size 432x288 with 1 Axes>"
      ]
     },
     "metadata": {
      "needs_background": "light"
     },
     "output_type": "display_data"
    },
    {
     "name": "stdout",
     "output_type": "stream",
     "text": [
      "Average Precision Score: 1.0\n"
     ]
    }
   ],
   "source": [
    "# We can plot the Precision-Recall Curve to see the accuracy of and speed\n",
    "plt.plot(recall, precision, color='b', label='Precision-Recall curve')\n",
    "plt.xlabel('Recall')\n",
    "plt.ylabel('Precision')\n",
    "plt.title('Precision-Recall Curve')\n",
    "plt.legend(loc='lower left')\n",
    "plt.show()\n",
    "\n",
    "# Print average precision score\n",
    "print(f\"Average Precision Score: {average_precision}\")\n",
    "\n"
   ]
  },
  {
   "cell_type": "markdown",
   "id": "0d125782",
   "metadata": {},
   "source": [
    "# Note:\n",
    "###### - The data we used today was very clean in it's original condition, and thus fit our XGboost model very well. In most cases we would like to use GridSearchCV() to find the optmal hyperpapramter to prevent overfitting (Bias/Variance Trade off)\n",
    "###### - When comparing predictions to the orignal Sale Prices, the XGBoost model did extremely well, usually only a few hundred dollars off it actual price. We can take this model to pretty confidently predict our test datset since it paramteres are relatively simple. "
   ]
  },
  {
   "cell_type": "code",
   "execution_count": 23,
   "id": "7cf221ee",
   "metadata": {},
   "outputs": [
    {
     "data": {
      "text/plain": [
       "0.00   -876830000.0\n",
       "0.25        23240.0\n",
       "0.50        69280.0\n",
       "0.75       125000.0\n",
       "Name: Gain, dtype: float64"
      ]
     },
     "execution_count": 23,
     "metadata": {},
     "output_type": "execute_result"
    }
   ],
   "source": [
    "#Back to our original testset, let's test the gains for each sold house\n",
    "train_df['Gain'] = train_df[\"Sale Price\"] - train_df[\"Estimated Value\"]\n",
    "train_df['Gain']\n",
    "#I want to looks at size and quantiles of our sales to segemtn\n",
    "gain_range = train_df[\"Gain\"].max() - train_df[\"Gain\"].min()\n",
    "gain_quantiles = train_df[\"Gain\"].quantile([0, 0.25, 0.5, 0.75])\n",
    "gain_quantiles"
   ]
  },
  {
   "cell_type": "code",
   "execution_count": 24,
   "id": "e0e95bb1",
   "metadata": {},
   "outputs": [
    {
     "data": {
      "text/plain": [
       "3    138512\n",
       "2    138491\n",
       "1    138490\n",
       "4    138459\n",
       "Name: quantile_range, dtype: int64"
      ]
     },
     "execution_count": 24,
     "metadata": {},
     "output_type": "execute_result"
    }
   ],
   "source": [
    "#There's a wide range in our gains, but the quantiles split remearkable evenly\n",
    "quantile = [0, 0.25, 0.5, 0.75, 1]\n",
    "train_df['quantile_range'] = pd.qcut(train_df['Gain'], quantile, labels=False) + 1\n",
    "train_df['quantile_range'].value_counts()"
   ]
  },
  {
   "cell_type": "markdown",
   "id": "0621d19d",
   "metadata": {},
   "source": [
    "# Predicting a new dataset:\n",
    "###### -Our Model is finished, so we can begin predicting our second dataset and segment them according to gain(like the code above)\n",
    "###### - For any new data coming in , we need to ensure it's formatted according the original model"
   ]
  },
  {
   "cell_type": "code",
   "execution_count": 25,
   "id": "a549d7cf",
   "metadata": {},
   "outputs": [],
   "source": [
    "# We have our fitted model, so let's bring in the test set to create som new predictions\n",
    "test_df = pd.read_csv('test.csv')"
   ]
  },
  {
   "cell_type": "code",
   "execution_count": 26,
   "id": "2b06c5bd",
   "metadata": {},
   "outputs": [
    {
     "data": {
      "text/html": [
       "<div>\n",
       "<style scoped>\n",
       "    .dataframe tbody tr th:only-of-type {\n",
       "        vertical-align: middle;\n",
       "    }\n",
       "\n",
       "    .dataframe tbody tr th {\n",
       "        vertical-align: top;\n",
       "    }\n",
       "\n",
       "    .dataframe thead th {\n",
       "        text-align: right;\n",
       "    }\n",
       "</style>\n",
       "<table border=\"1\" class=\"dataframe\">\n",
       "  <thead>\n",
       "    <tr style=\"text-align: right;\">\n",
       "      <th></th>\n",
       "      <th>Year</th>\n",
       "      <th>Date</th>\n",
       "      <th>Locality</th>\n",
       "      <th>Address</th>\n",
       "      <th>Estimated Value</th>\n",
       "      <th>Sale Price</th>\n",
       "      <th>Property</th>\n",
       "      <th>Residential</th>\n",
       "      <th>num_rooms</th>\n",
       "      <th>carpet_area</th>\n",
       "      <th>property_tax_rate</th>\n",
       "      <th>Segment</th>\n",
       "    </tr>\n",
       "  </thead>\n",
       "  <tbody>\n",
       "    <tr>\n",
       "      <th>0</th>\n",
       "      <td>2023</td>\n",
       "      <td>2023-01-01</td>\n",
       "      <td>Old Lyme</td>\n",
       "      <td>12 SWAN AVE</td>\n",
       "      <td>151400.0</td>\n",
       "      <td>0</td>\n",
       "      <td>Residential</td>\n",
       "      <td>Detached House</td>\n",
       "      <td>3</td>\n",
       "      <td>947.0</td>\n",
       "      <td>1.46</td>\n",
       "      <td>0</td>\n",
       "    </tr>\n",
       "    <tr>\n",
       "      <th>1</th>\n",
       "      <td>2023</td>\n",
       "      <td>2023-01-01</td>\n",
       "      <td>Ridgefield</td>\n",
       "      <td>59 LINCOLN LANE</td>\n",
       "      <td>686900.0</td>\n",
       "      <td>0</td>\n",
       "      <td>Residential</td>\n",
       "      <td>Detached House</td>\n",
       "      <td>3</td>\n",
       "      <td>1051.0</td>\n",
       "      <td>1.46</td>\n",
       "      <td>0</td>\n",
       "    </tr>\n",
       "    <tr>\n",
       "      <th>2</th>\n",
       "      <td>2023</td>\n",
       "      <td>2023-01-04</td>\n",
       "      <td>Cromwell</td>\n",
       "      <td>6 GROVE RD</td>\n",
       "      <td>152030.0</td>\n",
       "      <td>0</td>\n",
       "      <td>Residential</td>\n",
       "      <td>Detached House</td>\n",
       "      <td>3</td>\n",
       "      <td>925.0</td>\n",
       "      <td>1.46</td>\n",
       "      <td>0</td>\n",
       "    </tr>\n",
       "    <tr>\n",
       "      <th>3</th>\n",
       "      <td>2023</td>\n",
       "      <td>2023-01-04</td>\n",
       "      <td>New Haven</td>\n",
       "      <td>346 CONCORD ST</td>\n",
       "      <td>156130.0</td>\n",
       "      <td>0</td>\n",
       "      <td>Residential</td>\n",
       "      <td>Duplex</td>\n",
       "      <td>4</td>\n",
       "      <td>1210.0</td>\n",
       "      <td>1.46</td>\n",
       "      <td>0</td>\n",
       "    </tr>\n",
       "    <tr>\n",
       "      <th>4</th>\n",
       "      <td>2023</td>\n",
       "      <td>2023-01-04</td>\n",
       "      <td>Beacon Falls</td>\n",
       "      <td>14 LASKY ROAD</td>\n",
       "      <td>108970.0</td>\n",
       "      <td>0</td>\n",
       "      <td>Residential</td>\n",
       "      <td>Detached House</td>\n",
       "      <td>3</td>\n",
       "      <td>1089.0</td>\n",
       "      <td>1.46</td>\n",
       "      <td>0</td>\n",
       "    </tr>\n",
       "  </tbody>\n",
       "</table>\n",
       "</div>"
      ],
      "text/plain": [
       "   Year        Date      Locality          Address  Estimated Value  \\\n",
       "0  2023  2023-01-01      Old Lyme      12 SWAN AVE         151400.0   \n",
       "1  2023  2023-01-01    Ridgefield  59 LINCOLN LANE         686900.0   \n",
       "2  2023  2023-01-04      Cromwell       6 GROVE RD         152030.0   \n",
       "3  2023  2023-01-04     New Haven   346 CONCORD ST         156130.0   \n",
       "4  2023  2023-01-04  Beacon Falls    14 LASKY ROAD         108970.0   \n",
       "\n",
       "   Sale Price     Property     Residential  num_rooms  carpet_area  \\\n",
       "0           0  Residential  Detached House          3        947.0   \n",
       "1           0  Residential  Detached House          3       1051.0   \n",
       "2           0  Residential  Detached House          3        925.0   \n",
       "3           0  Residential          Duplex          4       1210.0   \n",
       "4           0  Residential  Detached House          3       1089.0   \n",
       "\n",
       "   property_tax_rate  Segment  \n",
       "0               1.46        0  \n",
       "1               1.46        0  \n",
       "2               1.46        0  \n",
       "3               1.46        0  \n",
       "4               1.46        0  "
      ]
     },
     "execution_count": 26,
     "metadata": {},
     "output_type": "execute_result"
    }
   ],
   "source": [
    "test_df.head()"
   ]
  },
  {
   "cell_type": "code",
   "execution_count": 27,
   "id": "e510bc6e",
   "metadata": {},
   "outputs": [],
   "source": [
    "#Once again, we have to format the data so we can process it into the Dmatrix for predictions\n",
    "xgb_test_df = test_df.drop(['Address', \"Date\",\"Segment\"], axis=1).copy()"
   ]
  },
  {
   "cell_type": "code",
   "execution_count": 28,
   "id": "aa9d789c",
   "metadata": {},
   "outputs": [],
   "source": [
    "X2 = xgb_test_df.drop(['Sale Price'],axis=1).copy()"
   ]
  },
  {
   "cell_type": "code",
   "execution_count": 29,
   "id": "9b721da6",
   "metadata": {},
   "outputs": [],
   "source": [
    "X2[\"Locality\"]=X['Locality'].astype('category')\n",
    "X2[\"Property\"]=X['Property'].astype('category')\n",
    "X2[\"Residential\"]=X['Residential'].astype('category')"
   ]
  },
  {
   "cell_type": "code",
   "execution_count": 30,
   "id": "5e4a21b8",
   "metadata": {},
   "outputs": [
    {
     "data": {
      "text/plain": [
       "Year                    int64\n",
       "Locality             category\n",
       "Estimated Value       float64\n",
       "Property             category\n",
       "Residential          category\n",
       "num_rooms               int64\n",
       "carpet_area           float64\n",
       "property_tax_rate     float64\n",
       "dtype: object"
      ]
     },
     "execution_count": 30,
     "metadata": {},
     "output_type": "execute_result"
    }
   ],
   "source": [
    "X2.dtypes"
   ]
  },
  {
   "cell_type": "code",
   "execution_count": 31,
   "id": "b10ff300",
   "metadata": {},
   "outputs": [],
   "source": [
    "#Once again, we manipuate our DF into a DMatrix\n",
    "dtest = xgb.DMatrix(X2, enable_categorical=True)"
   ]
  },
  {
   "cell_type": "code",
   "execution_count": 32,
   "id": "e665b60d",
   "metadata": {},
   "outputs": [],
   "source": [
    "#And Bam, here's our new predictions via XGBoost Model\n",
    "predictions = lnr_xgb.predict(dtest)"
   ]
  },
  {
   "cell_type": "code",
   "execution_count": 33,
   "id": "f414ca94",
   "metadata": {},
   "outputs": [],
   "source": [
    "#We've got to add our predictions back into the testing DataFrame\n",
    "test_df[\"Sale Price\"] = predictions.astype('int64')"
   ]
  },
  {
   "cell_type": "code",
   "execution_count": 34,
   "id": "1349d74a",
   "metadata": {},
   "outputs": [
    {
     "data": {
      "text/html": [
       "<div>\n",
       "<style scoped>\n",
       "    .dataframe tbody tr th:only-of-type {\n",
       "        vertical-align: middle;\n",
       "    }\n",
       "\n",
       "    .dataframe tbody tr th {\n",
       "        vertical-align: top;\n",
       "    }\n",
       "\n",
       "    .dataframe thead th {\n",
       "        text-align: right;\n",
       "    }\n",
       "</style>\n",
       "<table border=\"1\" class=\"dataframe\">\n",
       "  <thead>\n",
       "    <tr style=\"text-align: right;\">\n",
       "      <th></th>\n",
       "      <th>Year</th>\n",
       "      <th>Date</th>\n",
       "      <th>Locality</th>\n",
       "      <th>Address</th>\n",
       "      <th>Estimated Value</th>\n",
       "      <th>Sale Price</th>\n",
       "      <th>Property</th>\n",
       "      <th>Residential</th>\n",
       "      <th>num_rooms</th>\n",
       "      <th>carpet_area</th>\n",
       "      <th>property_tax_rate</th>\n",
       "      <th>Segment</th>\n",
       "    </tr>\n",
       "  </thead>\n",
       "  <tbody>\n",
       "    <tr>\n",
       "      <th>0</th>\n",
       "      <td>2023</td>\n",
       "      <td>2023-01-01</td>\n",
       "      <td>Old Lyme</td>\n",
       "      <td>12 SWAN AVE</td>\n",
       "      <td>151400.0</td>\n",
       "      <td>232259</td>\n",
       "      <td>Residential</td>\n",
       "      <td>Detached House</td>\n",
       "      <td>3</td>\n",
       "      <td>947.0</td>\n",
       "      <td>1.46</td>\n",
       "      <td>0</td>\n",
       "    </tr>\n",
       "    <tr>\n",
       "      <th>1</th>\n",
       "      <td>2023</td>\n",
       "      <td>2023-01-01</td>\n",
       "      <td>Ridgefield</td>\n",
       "      <td>59 LINCOLN LANE</td>\n",
       "      <td>686900.0</td>\n",
       "      <td>977284</td>\n",
       "      <td>Residential</td>\n",
       "      <td>Detached House</td>\n",
       "      <td>3</td>\n",
       "      <td>1051.0</td>\n",
       "      <td>1.46</td>\n",
       "      <td>0</td>\n",
       "    </tr>\n",
       "    <tr>\n",
       "      <th>2</th>\n",
       "      <td>2023</td>\n",
       "      <td>2023-01-04</td>\n",
       "      <td>Cromwell</td>\n",
       "      <td>6 GROVE RD</td>\n",
       "      <td>152030.0</td>\n",
       "      <td>232259</td>\n",
       "      <td>Residential</td>\n",
       "      <td>Detached House</td>\n",
       "      <td>3</td>\n",
       "      <td>925.0</td>\n",
       "      <td>1.46</td>\n",
       "      <td>0</td>\n",
       "    </tr>\n",
       "    <tr>\n",
       "      <th>3</th>\n",
       "      <td>2023</td>\n",
       "      <td>2023-01-04</td>\n",
       "      <td>New Haven</td>\n",
       "      <td>346 CONCORD ST</td>\n",
       "      <td>156130.0</td>\n",
       "      <td>229690</td>\n",
       "      <td>Residential</td>\n",
       "      <td>Duplex</td>\n",
       "      <td>4</td>\n",
       "      <td>1210.0</td>\n",
       "      <td>1.46</td>\n",
       "      <td>0</td>\n",
       "    </tr>\n",
       "    <tr>\n",
       "      <th>4</th>\n",
       "      <td>2023</td>\n",
       "      <td>2023-01-04</td>\n",
       "      <td>Beacon Falls</td>\n",
       "      <td>14 LASKY ROAD</td>\n",
       "      <td>108970.0</td>\n",
       "      <td>111049</td>\n",
       "      <td>Residential</td>\n",
       "      <td>Detached House</td>\n",
       "      <td>3</td>\n",
       "      <td>1089.0</td>\n",
       "      <td>1.46</td>\n",
       "      <td>0</td>\n",
       "    </tr>\n",
       "  </tbody>\n",
       "</table>\n",
       "</div>"
      ],
      "text/plain": [
       "   Year        Date      Locality          Address  Estimated Value  \\\n",
       "0  2023  2023-01-01      Old Lyme      12 SWAN AVE         151400.0   \n",
       "1  2023  2023-01-01    Ridgefield  59 LINCOLN LANE         686900.0   \n",
       "2  2023  2023-01-04      Cromwell       6 GROVE RD         152030.0   \n",
       "3  2023  2023-01-04     New Haven   346 CONCORD ST         156130.0   \n",
       "4  2023  2023-01-04  Beacon Falls    14 LASKY ROAD         108970.0   \n",
       "\n",
       "   Sale Price     Property     Residential  num_rooms  carpet_area  \\\n",
       "0      232259  Residential  Detached House          3        947.0   \n",
       "1      977284  Residential  Detached House          3       1051.0   \n",
       "2      232259  Residential  Detached House          3        925.0   \n",
       "3      229690  Residential          Duplex          4       1210.0   \n",
       "4      111049  Residential  Detached House          3       1089.0   \n",
       "\n",
       "   property_tax_rate  Segment  \n",
       "0               1.46        0  \n",
       "1               1.46        0  \n",
       "2               1.46        0  \n",
       "3               1.46        0  \n",
       "4               1.46        0  "
      ]
     },
     "execution_count": 34,
     "metadata": {},
     "output_type": "execute_result"
    }
   ],
   "source": [
    "#Make sure that worked\n",
    "test_df.head()"
   ]
  },
  {
   "cell_type": "code",
   "execution_count": 35,
   "id": "5706a2f1",
   "metadata": {},
   "outputs": [
    {
     "data": {
      "text/plain": [
       "0     80859.0\n",
       "1    290384.0\n",
       "2     80229.0\n",
       "3     73560.0\n",
       "4      2079.0\n",
       "Name: Gain, dtype: float64"
      ]
     },
     "execution_count": 35,
     "metadata": {},
     "output_type": "execute_result"
    }
   ],
   "source": [
    "#We have our new Sale Prices, we can now calculate the potential gain\n",
    "test_df['Gain'] = test_df[\"Sale Price\"] - test_df[\"Estimated Value\"]\n",
    "test_df['Gain'].head()"
   ]
  },
  {
   "cell_type": "code",
   "execution_count": 36,
   "id": "df5cd450",
   "metadata": {},
   "outputs": [
    {
     "data": {
      "text/plain": [
       "0.00   -60780238.00\n",
       "0.25       60916.75\n",
       "0.50       95096.00\n",
       "0.75      142676.75\n",
       "Name: Gain, dtype: float64"
      ]
     },
     "execution_count": 36,
     "metadata": {},
     "output_type": "execute_result"
    }
   ],
   "source": [
    "#Let's take look and compare the gain range of the test and train\n",
    "gain_range = test_df[\"Gain\"].max() - test_df[\"Gain\"].min()\n",
    "gain_quantiles = test_df[\"Gain\"].quantile([0, 0.25, 0.5, 0.75])\n",
    "gain_quantiles"
   ]
  },
  {
   "cell_type": "code",
   "execution_count": 37,
   "id": "54c0ce9d",
   "metadata": {},
   "outputs": [
    {
     "data": {
      "text/plain": [
       "2    10989\n",
       "4    10989\n",
       "1    10989\n",
       "3    10987\n",
       "Name: Segment, dtype: int64"
      ]
     },
     "execution_count": 37,
     "metadata": {},
     "output_type": "execute_result"
    }
   ],
   "source": [
    "#Our quantiles are placed once again\n",
    "test_df['Segment'] = pd.qcut(test_df['Gain'], quantile, labels=False) + 1\n",
    "test_df['Segment'].value_counts()"
   ]
  },
  {
   "cell_type": "code",
   "execution_count": 38,
   "id": "5b02ca05",
   "metadata": {},
   "outputs": [
    {
     "data": {
      "text/plain": [
       "dtype('int64')"
      ]
     },
     "execution_count": 38,
     "metadata": {},
     "output_type": "execute_result"
    }
   ],
   "source": [
    "#ensuring data types \n",
    "test_df['Segment'].dtype"
   ]
  },
  {
   "cell_type": "code",
   "execution_count": 39,
   "id": "03887fe1",
   "metadata": {},
   "outputs": [
    {
     "data": {
      "text/html": [
       "<div>\n",
       "<style scoped>\n",
       "    .dataframe tbody tr th:only-of-type {\n",
       "        vertical-align: middle;\n",
       "    }\n",
       "\n",
       "    .dataframe tbody tr th {\n",
       "        vertical-align: top;\n",
       "    }\n",
       "\n",
       "    .dataframe thead th {\n",
       "        text-align: right;\n",
       "    }\n",
       "</style>\n",
       "<table border=\"1\" class=\"dataframe\">\n",
       "  <thead>\n",
       "    <tr style=\"text-align: right;\">\n",
       "      <th></th>\n",
       "      <th>Year</th>\n",
       "      <th>Date</th>\n",
       "      <th>Locality</th>\n",
       "      <th>Address</th>\n",
       "      <th>Estimated Value</th>\n",
       "      <th>Sale Price</th>\n",
       "      <th>Property</th>\n",
       "      <th>Residential</th>\n",
       "      <th>num_rooms</th>\n",
       "      <th>carpet_area</th>\n",
       "      <th>property_tax_rate</th>\n",
       "      <th>Segment</th>\n",
       "      <th>Gain</th>\n",
       "    </tr>\n",
       "  </thead>\n",
       "  <tbody>\n",
       "    <tr>\n",
       "      <th>0</th>\n",
       "      <td>2023</td>\n",
       "      <td>2023-01-01</td>\n",
       "      <td>Old Lyme</td>\n",
       "      <td>12 SWAN AVE</td>\n",
       "      <td>151400.0</td>\n",
       "      <td>232259</td>\n",
       "      <td>Residential</td>\n",
       "      <td>Detached House</td>\n",
       "      <td>3</td>\n",
       "      <td>947.0</td>\n",
       "      <td>1.46</td>\n",
       "      <td>Standard Properties</td>\n",
       "      <td>80859.0</td>\n",
       "    </tr>\n",
       "    <tr>\n",
       "      <th>1</th>\n",
       "      <td>2023</td>\n",
       "      <td>2023-01-01</td>\n",
       "      <td>Ridgefield</td>\n",
       "      <td>59 LINCOLN LANE</td>\n",
       "      <td>686900.0</td>\n",
       "      <td>977284</td>\n",
       "      <td>Residential</td>\n",
       "      <td>Detached House</td>\n",
       "      <td>3</td>\n",
       "      <td>1051.0</td>\n",
       "      <td>1.46</td>\n",
       "      <td>Premium Properties</td>\n",
       "      <td>290384.0</td>\n",
       "    </tr>\n",
       "    <tr>\n",
       "      <th>2</th>\n",
       "      <td>2023</td>\n",
       "      <td>2023-01-04</td>\n",
       "      <td>Cromwell</td>\n",
       "      <td>6 GROVE RD</td>\n",
       "      <td>152030.0</td>\n",
       "      <td>232259</td>\n",
       "      <td>Residential</td>\n",
       "      <td>Detached House</td>\n",
       "      <td>3</td>\n",
       "      <td>925.0</td>\n",
       "      <td>1.46</td>\n",
       "      <td>Standard Properties</td>\n",
       "      <td>80229.0</td>\n",
       "    </tr>\n",
       "    <tr>\n",
       "      <th>3</th>\n",
       "      <td>2023</td>\n",
       "      <td>2023-01-04</td>\n",
       "      <td>New Haven</td>\n",
       "      <td>346 CONCORD ST</td>\n",
       "      <td>156130.0</td>\n",
       "      <td>229690</td>\n",
       "      <td>Residential</td>\n",
       "      <td>Duplex</td>\n",
       "      <td>4</td>\n",
       "      <td>1210.0</td>\n",
       "      <td>1.46</td>\n",
       "      <td>Standard Properties</td>\n",
       "      <td>73560.0</td>\n",
       "    </tr>\n",
       "    <tr>\n",
       "      <th>4</th>\n",
       "      <td>2023</td>\n",
       "      <td>2023-01-04</td>\n",
       "      <td>Beacon Falls</td>\n",
       "      <td>14 LASKY ROAD</td>\n",
       "      <td>108970.0</td>\n",
       "      <td>111049</td>\n",
       "      <td>Residential</td>\n",
       "      <td>Detached House</td>\n",
       "      <td>3</td>\n",
       "      <td>1089.0</td>\n",
       "      <td>1.46</td>\n",
       "      <td>Budget Properties</td>\n",
       "      <td>2079.0</td>\n",
       "    </tr>\n",
       "  </tbody>\n",
       "</table>\n",
       "</div>"
      ],
      "text/plain": [
       "   Year        Date      Locality          Address  Estimated Value  \\\n",
       "0  2023  2023-01-01      Old Lyme      12 SWAN AVE         151400.0   \n",
       "1  2023  2023-01-01    Ridgefield  59 LINCOLN LANE         686900.0   \n",
       "2  2023  2023-01-04      Cromwell       6 GROVE RD         152030.0   \n",
       "3  2023  2023-01-04     New Haven   346 CONCORD ST         156130.0   \n",
       "4  2023  2023-01-04  Beacon Falls    14 LASKY ROAD         108970.0   \n",
       "\n",
       "   Sale Price     Property     Residential  num_rooms  carpet_area  \\\n",
       "0      232259  Residential  Detached House          3        947.0   \n",
       "1      977284  Residential  Detached House          3       1051.0   \n",
       "2      232259  Residential  Detached House          3        925.0   \n",
       "3      229690  Residential          Duplex          4       1210.0   \n",
       "4      111049  Residential  Detached House          3       1089.0   \n",
       "\n",
       "   property_tax_rate              Segment      Gain  \n",
       "0               1.46  Standard Properties   80859.0  \n",
       "1               1.46   Premium Properties  290384.0  \n",
       "2               1.46  Standard Properties   80229.0  \n",
       "3               1.46  Standard Properties   73560.0  \n",
       "4               1.46    Budget Properties    2079.0  "
      ]
     },
     "execution_count": 39,
     "metadata": {},
     "output_type": "execute_result"
    }
   ],
   "source": [
    "#The Prompt asked for specifc segment names, so we need to change our mapping\n",
    "mapping = {1: 'Budget Properties', 2: 'Standard Properties', 3: 'Valuable Properties', 4: 'Premium Properties'}\n",
    "\n",
    "# Convert the column from Numbers to Categories\n",
    "test_df['Segment'] = test_df['Segment'].replace(mapping)\n",
    "test_df.head()"
   ]
  },
  {
   "cell_type": "code",
   "execution_count": 40,
   "id": "042a818b",
   "metadata": {},
   "outputs": [],
   "source": [
    "#Our newly predicted data is ready to go! Let's save it as a csv\n",
    "test_df.to_csv('predicted house prices.csv')"
   ]
  },
  {
   "cell_type": "markdown",
   "id": "6637fadd",
   "metadata": {},
   "source": [
    "# Conclusions\n",
    "###### -XGBoosting is a machine learning model that comes pretty well optimized right out the box, which makes it a great go to when quickly optimizing data\n",
    "###### -The data we ran throught after fitting was quite consistent to the predictions with our training set which means we could pretty confidently relay the twchniques onto knew data as long as we have the same data pre-modified when inputting our model\n",
    "\n",
    "###### - Our original datasets provided a relatively clean experience when predicting the house prices. In larger, more complex datasets hyperparameter searches would be crtiical to our model's tuning process to prevent overfitting our training data. \n",
    "\n",
    "###  for deeper insights, thikning processes, and visualization please refer to this Noetbook's accompanying Tableau Dashboard & Paper Summary"
   ]
  },
  {
   "cell_type": "code",
   "execution_count": 41,
   "id": "aab35590",
   "metadata": {},
   "outputs": [],
   "source": [
    "loading = pd.DataFrame(sorted_loading_scores)"
   ]
  },
  {
   "cell_type": "code",
   "execution_count": 43,
   "id": "65f4558a",
   "metadata": {},
   "outputs": [],
   "source": [
    "loading.to_csv(\"loading scores.csv\")"
   ]
  },
  {
   "cell_type": "code",
   "execution_count": 46,
   "id": "2afbb823",
   "metadata": {},
   "outputs": [],
   "source": [
    "city_df = test_df[(test_df['Locality'] == 'Stamford') | (test_df['Locality'] == 'Waterbury') | (test_df['Locality'] == 'Norwalk') | (test_df['Locality'] == 'Hartford') | (test_df['Locality'] == 'Danbury') | (test_df['Locality'] == 'Darien') | (test_df['Locality'] == 'West Hartford') | (test_df['Locality'] == 'Ridgefield') | (test_df['Locality'] == 'New Haven') | (test_df['Locality'] == 'Bristol')]"
   ]
  },
  {
   "cell_type": "code",
   "execution_count": null,
   "id": "d7e2e464",
   "metadata": {},
   "outputs": [],
   "source": []
  },
  {
   "cell_type": "code",
   "execution_count": 61,
   "id": "be722c97",
   "metadata": {},
   "outputs": [],
   "source": [
    "grouped = city_df.groupby('Locality')\n",
    "def select_top_10(df):\n",
    "    return df.nlargest(10, 'Gain')\n",
    "\n",
    "# Apply the function to each group and concatenate the results\n",
    "top_10_df = grouped.apply(select_top_10).reset_index(drop=True)\n",
    "\n",
    "# Display the top 10 rows for each category\n",
    "top_10_df.to_csv(\"city_address.csv\")"
   ]
  },
  {
   "cell_type": "code",
   "execution_count": null,
   "id": "70bd043a",
   "metadata": {},
   "outputs": [],
   "source": []
  },
  {
   "cell_type": "code",
   "execution_count": null,
   "id": "3cb5c91a",
   "metadata": {},
   "outputs": [],
   "source": []
  }
 ],
 "metadata": {
  "kernelspec": {
   "display_name": "Python 3 (ipykernel)",
   "language": "python",
   "name": "python3"
  },
  "language_info": {
   "codemirror_mode": {
    "name": "ipython",
    "version": 3
   },
   "file_extension": ".py",
   "mimetype": "text/x-python",
   "name": "python",
   "nbconvert_exporter": "python",
   "pygments_lexer": "ipython3",
   "version": "3.9.12"
  }
 },
 "nbformat": 4,
 "nbformat_minor": 5
}
